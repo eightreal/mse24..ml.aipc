{
 "cells": [
  {
   "cell_type": "code",
   "execution_count": 3,
   "metadata": {},
   "outputs": [],
   "source": [
    "import torch\n",
    "import os\n",
    "import openvino as ov\n",
    "import json\n",
    "from transformers import AutoModelForCausalLM, AutoTokenizer\n",
    "from optimum.intel.openvino import OVModelForCausalLM\n",
    "from optimum.intel import OVQuantizer, OVConfig, OVQuantizationConfig, OVWeightQuantizationConfig\n",
    "\n",
    "# ov_config = {\"INFERENCE_PRECISION_HINT\": \"f16\"}\n"
   ]
  },
  {
   "cell_type": "code",
   "execution_count": 4,
   "metadata": {},
   "outputs": [],
   "source": [
    "from SearchApps import resquest_google"
   ]
  },
  {
   "cell_type": "code",
   "execution_count": 5,
   "metadata": {},
   "outputs": [],
   "source": [
    "model_save_path = \"saved_model_qu\""
   ]
  },
  {
   "cell_type": "code",
   "execution_count": 6,
   "metadata": {},
   "outputs": [
    {
     "data": {
      "text/plain": [
       "['CPU', 'GPU', 'NPU']"
      ]
     },
     "execution_count": 6,
     "metadata": {},
     "output_type": "execute_result"
    }
   ],
   "source": [
    "core = ov.Core()\n",
    "devices = core.available_devices\n",
    "devices"
   ]
  },
  {
   "cell_type": "code",
   "execution_count": 7,
   "metadata": {},
   "outputs": [],
   "source": [
    "def get_inputs(pairs, tokenizer, prompt=None, max_length=1024):\n",
    "    if prompt is None:\n",
    "        prompt = \"Given a query A and a app json B, determine whether the app json match to the query by providing a prediction of either 'Yes' or 'No'.\"\n",
    "    sep = \"\\n\"\n",
    "    prompt_inputs = tokenizer(prompt,\n",
    "                              return_tensors=None,\n",
    "                              add_special_tokens=False)['input_ids']\n",
    "    sep_inputs = tokenizer(sep,\n",
    "                           return_tensors=None,\n",
    "                           add_special_tokens=False)['input_ids']\n",
    "    inputs = []\n",
    "    for query, passage in pairs:\n",
    "        query_inputs = tokenizer(f'A: {query}',\n",
    "                                 return_tensors=None,\n",
    "                                 add_special_tokens=False,\n",
    "                                 max_length=max_length * 3 // 4,\n",
    "                                 truncation=True)\n",
    "        passage_inputs = tokenizer(f'B: {passage}',\n",
    "                                   return_tensors=None,\n",
    "                                   add_special_tokens=False,\n",
    "                                   max_length=max_length,\n",
    "                                   truncation=True)\n",
    "        item = tokenizer.prepare_for_model(\n",
    "            [tokenizer.bos_token_id] + query_inputs['input_ids'],\n",
    "            sep_inputs + passage_inputs['input_ids'],\n",
    "            truncation='only_second',\n",
    "            max_length=max_length,\n",
    "            padding=False,\n",
    "            return_attention_mask=False,\n",
    "            return_token_type_ids=False,\n",
    "            add_special_tokens=False\n",
    "        )\n",
    "        item['input_ids'] = item['input_ids'] + sep_inputs + prompt_inputs\n",
    "        item['attention_mask'] = [1] * len(item['input_ids'])\n",
    "        inputs.append(item)\n",
    "    return tokenizer.pad(\n",
    "            inputs,\n",
    "            padding=True,\n",
    "            max_length=max_length + len(sep_inputs) + len(prompt_inputs),\n",
    "            pad_to_multiple_of=8,\n",
    "            return_tensors='pt',\n",
    "    )\n"
   ]
  },
  {
   "cell_type": "code",
   "execution_count": 8,
   "metadata": {},
   "outputs": [],
   "source": [
    "# model_q = OVQuantizer.from_pretrained(model)\n",
    "ov_config = OVConfig(quantization_config=OVQuantizationConfig())"
   ]
  },
  {
   "cell_type": "code",
   "execution_count": 9,
   "metadata": {},
   "outputs": [],
   "source": [
    "tokenizer = AutoTokenizer.from_pretrained('BAAI/bge-reranker-v2-gemma')\n",
    "if os.path.exists(model_save_path):\n",
    "    model = OVModelForCausalLM.from_pretrained(model_save_path)\n",
    "    # model = OVModelForCausalLM.from_pretrained(model_save_path)\n",
    "    \n",
    "else: \n",
    "    \n",
    "    model = OVModelForCausalLM.from_pretrained('BAAI/bge-reranker-v2-gemma', export=True, quantization_config=OVWeightQuantizationConfig(bits=8))\n",
    "\n",
    "    model.save_pretrained(model_save_path)\n",
    "    \n",
    "model.to(\"gpu\")\n",
    "model.compile()\n",
    "# tokenizer \n",
    "\n",
    "# model_q.quantize(ov_config=ov_config, calibration_dataset=ca)"
   ]
  },
  {
   "cell_type": "code",
   "execution_count": 10,
   "metadata": {},
   "outputs": [],
   "source": [
    "\n",
    "# tokenizer = AutoTokenizer.from_pretrained('BAAI/bge-reranker-v2-gemma')\n",
    "\n",
    "# model = OVModelForCausalLM.from_pretrained('BAAI/bge-reranker-v2-gemma',export=True)\n",
    "\n",
    "# model.save_pretrained(\"saved_model\")\n",
    "\n",
    "yes_loc = tokenizer('Yes', add_special_tokens=False)['input_ids'][0]\n"
   ]
  },
  {
   "cell_type": "code",
   "execution_count": 11,
   "metadata": {},
   "outputs": [
    {
     "name": "stdout",
     "output_type": "stream",
     "text": [
      "{\n",
      "    \"id\": \"com.unionpay\",\n",
      "    \"url\": \"https://play.google.com/store/apps/details?id=com.unionpay\",\n",
      "    \"name\": \"云闪付\",\n",
      "    \"category\": \"财务\",\n",
      "    \"contentRating\": \"适合所有人\",\n",
      "    \"releaseNotes\": \"修复了已知的问题。\",\n",
      "    \"description\": \"云闪付APP，银行业统一移动支付战略产品，银行卡管理一步到位，银行卡优惠一网打尽。\\n【主要功能】\\n1.全面的银联银行优惠权益查询，实时更新省钱省心。\\n2.手机扫码支付，银联金融级安全保护，资金安全无忧。\\n3.绑定银联卡，享受消费提醒、交易查询、手工记账服务。\\n4.信用卡还款，手机充值，公共缴费，转账，收款一站搞定。\\n5.在线办卡，尊享一元停车、出行贵宾厅服务等银联权益。\\n【官方网站】https://www.95516.com/\\n【官方微博】云闪付\\n【官方微信】Yinlian_KY\",\n",
      "    \"icons\": {\n",
      "        \"small\": \"https://play-lh.googleusercontent.com/_KMxe53g6yqPsRPpwjsekvz8dZxZ0xwOdGnIETdCBSErM9HV0hcpz2fP9tL99Z1gnw=w128\",\n",
      "        \"medium\": \"https://play-lh.googleusercontent.com/_KMxe53g6yqPsRPpwjsekvz8dZxZ0xwOdGnIETdCBSErM9HV0hcpz2fP9tL99Z1gnw=w256\",\n",
      "        \"large\": \"https://play-lh.googleusercontent.com/_KMxe53g6yqPsRPpwjsekvz8dZxZ0xwOdGnIETdCBSErM9HV0hcpz2fP9tL99Z1gnw=w512\"\n",
      "    },\n",
      "    \"developer\": {\n",
      "        \"id\": \"China+UnionPay\",\n",
      "        \"name\": \"China UnionPay\",\n",
      "        \"url\": \"https://play.google.com/store/apps/developer?id=China+UnionPay\",\n",
      "        \"website\": \"https://www.95516.com\",\n",
      "        \"email\": \"linjunnan@unionpayintl.com\"\n",
      "    },\n",
      "    \"ratings\": {\n",
      "        \"average\": 2.8,\n",
      "        \"total\": 4087\n",
      "    },\n",
      "    \"price\": {\n",
      "        \"raw\": 0,\n",
      "        \"display\": \"Free\",\n",
      "        \"currency\": \"USD\"\n",
      "    },\n",
      "    \"updatedAt\": \"2024-10-25T08:10:48.000Z\",\n",
      "    \"currentVersion\": \"10.1.5\",\n",
      "    \"minimumOsVersion\": \"4.4\",\n",
      "    \"screenshots\": [\n",
      "        \"https://play-lh.googleusercontent.com/Rk79PBs1B2aZBEz-LQzXGf1I5ihw84htV9U42wkzJtVsgun3yaklmU9fqqvTU1LNeS0\",\n",
      "        \"https://play-lh.googleusercontent.com/4kuiXIeddeUk_WBYjM0Pap-MeWhenj5BT4pvXs602Gu5DhN6jStAwethix3SsSsKXbl6\",\n",
      "        \"https://play-lh.googleusercontent.com/xhY0YUQqxN3A2wMQ1u25pBi2XiXb7kEhCr_BuUPDsx-YlypkdqeJNaRBrkgD_9iocAA\",\n",
      "        \"https://play-lh.googleusercontent.com/YwwamlKDr0VWDGnuc3DOKTPCMZg8qoajPgoZT0BePgEVT0uFrLAXXA2CeQPh3Bp70OVb\"\n",
      "    ]\n",
      "}\n",
      "文件写入完成\n"
     ]
    }
   ],
   "source": [
    "query =\"中国常用的支付软件\"\n",
    "queryres = resquest_google(query, True)\n",
    "\n",
    "google_res = [item[\"name\"] for item in queryres]\n"
   ]
  },
  {
   "cell_type": "code",
   "execution_count": 12,
   "metadata": {},
   "outputs": [
    {
     "data": {
      "text/plain": [
       "['云闪付',\n",
       " '支付宝',\n",
       " 'Google Wallet',\n",
       " 'PayPal',\n",
       " 'Venmo',\n",
       " 'Zelle',\n",
       " '中国银行（境外版）',\n",
       " 'PayPal Business',\n",
       " '淘宝',\n",
       " 'Cards - 卡片 - 手机钱包',\n",
       " '電子支付',\n",
       " 'WeChat',\n",
       " 'Remitly: Send Money & Transfer',\n",
       " 'Samsung Wallet (Samsung Pay)',\n",
       " 'Mobily Pay',\n",
       " 'Amazon Shopping',\n",
       " 'A+ Wallet',\n",
       " 'Wise',\n",
       " 'Tonkeeper — TON Wallet',\n",
       " 'Chime – Mobile Banking']"
      ]
     },
     "execution_count": 12,
     "metadata": {},
     "output_type": "execute_result"
    }
   ],
   "source": [
    "google_res"
   ]
  },
  {
   "cell_type": "code",
   "execution_count": 13,
   "metadata": {},
   "outputs": [],
   "source": [
    "def build_pairs(query, res):\n",
    "    return [[query, json.dumps(item, ensure_ascii=False).replace(\"\\\\n\", \"\")] for item in res]"
   ]
  },
  {
   "cell_type": "code",
   "execution_count": 14,
   "metadata": {},
   "outputs": [],
   "source": [
    "pairs = build_pairs(query, queryres)"
   ]
  },
  {
   "cell_type": "code",
   "execution_count": 15,
   "metadata": {},
   "outputs": [],
   "source": [
    "# pairs = pairs[0:8]\n"
   ]
  },
  {
   "cell_type": "code",
   "execution_count": 16,
   "metadata": {},
   "outputs": [
    {
     "name": "stderr",
     "output_type": "stream",
     "text": [
      "You're using a GemmaTokenizerFast tokenizer. Please note that with a fast tokenizer, using the `__call__` method is faster than using a method to encode the text followed by a call to the `pad` method to get a padded encoding.\n",
      "c:\\Users\\conte\\miniconda3\\envs\\aipc.openvino\\lib\\site-packages\\transformers\\tokenization_utils_base.py:2855: UserWarning: `max_length` is ignored when `padding`=`True` and there is no truncation strategy. To pad to max length, use `padding='max_length'`.\n",
      "  warnings.warn(\n"
     ]
    },
    {
     "name": "stdout",
     "output_type": "stream",
     "text": [
      "tensor([7.5117, 7.5117])\n",
      "tensor([7.5117, 6.9141])\n",
      "tensor([7.5078, 4.7461])\n",
      "tensor([7.5664, 4.2344])\n",
      "tensor([7.5156, 3.4336])\n",
      "tensor([7.5273, 4.3047])\n",
      "tensor([7.5117, 6.8125])\n",
      "tensor([7.5547, 3.0820])\n",
      "tensor([7.5156, 4.3398])\n",
      "tensor([7.5117, 5.0195])\n",
      "tensor([7.5234, 6.7695])\n",
      "tensor([7.5664, 6.4219])\n",
      "tensor([7.5234, 4.8008])\n",
      "tensor([7.5547, 3.8750])\n",
      "tensor([7.5117, 3.9355])\n",
      "tensor([7.4844, 2.7773])\n",
      "tensor([7.5469, 6.0938])\n",
      "tensor([7.4648, 4.8281])\n",
      "tensor([7.5547, 3.6055])\n",
      "tensor([7.5430, 3.8359])\n"
     ]
    }
   ],
   "source": [
    "single_input_cnt =1\n",
    "start_i = 0\n",
    "scores = []\n",
    "for item in pairs:\n",
    "    model.eval()\n",
    "    with torch.no_grad():\n",
    "        end_ = start_i+single_input_cnt if start_i+single_input_cnt <= len(pairs) else len(pairs)\n",
    "        inputs = get_inputs([pairs[0],item], tokenizer)\n",
    "        model_out = model(**inputs, return_dict=True)\n",
    "        cur_scores = model_out.logits[:, -1, yes_loc].view(-1, ).float()\n",
    "        start_i+=single_input_cnt\n",
    "        print(cur_scores)\n",
    "        # for item in cur_scores:\n",
    "        scores.append(cur_scores[1].item()/cur_scores[0].item())\n",
    "\n",
    "        \n",
    "\n",
    "    "
   ]
  },
  {
   "cell_type": "code",
   "execution_count": 17,
   "metadata": {},
   "outputs": [],
   "source": [
    "rerank_sort = []\n",
    "for i in range (len(google_res)):\n",
    "    rerank_sort.append([google_res[i], scores[i]])"
   ]
  },
  {
   "cell_type": "code",
   "execution_count": 18,
   "metadata": {},
   "outputs": [],
   "source": [
    "rerank_sort.sort(key=lambda element: element[1],reverse=True)"
   ]
  },
  {
   "cell_type": "code",
   "execution_count": 19,
   "metadata": {},
   "outputs": [
    {
     "data": {
      "text/plain": [
       "['云闪付',\n",
       " '支付宝',\n",
       " 'Google Wallet',\n",
       " 'PayPal',\n",
       " 'Venmo',\n",
       " 'Zelle',\n",
       " '中国银行（境外版）',\n",
       " 'PayPal Business',\n",
       " '淘宝',\n",
       " 'Cards - 卡片 - 手机钱包',\n",
       " '電子支付',\n",
       " 'WeChat',\n",
       " 'Remitly: Send Money & Transfer',\n",
       " 'Samsung Wallet (Samsung Pay)',\n",
       " 'Mobily Pay',\n",
       " 'Amazon Shopping',\n",
       " 'A+ Wallet',\n",
       " 'Wise',\n",
       " 'Tonkeeper — TON Wallet',\n",
       " 'Chime – Mobile Banking']"
      ]
     },
     "execution_count": 19,
     "metadata": {},
     "output_type": "execute_result"
    }
   ],
   "source": [
    "google_res"
   ]
  },
  {
   "cell_type": "code",
   "execution_count": 20,
   "metadata": {},
   "outputs": [
    {
     "data": {
      "text/plain": [
       "[['云闪付', 1.0],\n",
       " ['支付宝', 0.9204368174726989],\n",
       " ['中国银行（境外版）', 0.906916276651066],\n",
       " ['電子支付', 0.8997923156801662],\n",
       " ['WeChat', 0.8487351574599896],\n",
       " ['A+ Wallet', 0.8074534161490683],\n",
       " ['Cards - 卡片 - 手机钱包', 0.6682267290691628],\n",
       " ['Wise', 0.6467817896389325],\n",
       " ['Remitly: Send Money & Transfer', 0.6381100726895119],\n",
       " ['Google Wallet', 0.6321540062434964],\n",
       " ['淘宝', 0.5774428274428275],\n",
       " ['Zelle', 0.5718733783082511],\n",
       " ['PayPal', 0.5596282911719154],\n",
       " ['Mobily Pay', 0.5239209568382736],\n",
       " ['Samsung Wallet (Samsung Pay)', 0.5129265770423992],\n",
       " ['Chime – Mobile Banking', 0.5085447954427758],\n",
       " ['Tonkeeper — TON Wallet', 0.4772492244053775],\n",
       " ['Venmo', 0.45686070686070684],\n",
       " ['PayPal Business', 0.4079627714581179],\n",
       " ['Amazon Shopping', 0.37108559498956156]]"
      ]
     },
     "execution_count": 20,
     "metadata": {},
     "output_type": "execute_result"
    }
   ],
   "source": [
    "rerank_sort\n"
   ]
  }
 ],
 "metadata": {
  "kernelspec": {
   "display_name": "aipc.openvino",
   "language": "python",
   "name": "python3"
  },
  "language_info": {
   "codemirror_mode": {
    "name": "ipython",
    "version": 3
   },
   "file_extension": ".py",
   "mimetype": "text/x-python",
   "name": "python",
   "nbconvert_exporter": "python",
   "pygments_lexer": "ipython3",
   "version": "3.10.15"
  }
 },
 "nbformat": 4,
 "nbformat_minor": 2
}
